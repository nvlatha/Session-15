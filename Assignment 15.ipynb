{
 "cells": [
  {
   "cell_type": "code",
   "execution_count": 9,
   "metadata": {},
   "outputs": [],
   "source": [
    "   # Assignment 15\n",
    "    \n",
    "    # 2.? Problem Statement\n",
    "    # Problem Statement 1:\n",
    "    # You survey households in your area to find the average rent they are paying. Find the\n",
    "    # standard deviation from the following data:\n",
    "    # $1550, $1700, $900, $850, $1000, $950.\n",
    "    \n",
    "    # Problem Statement 2:\n",
    "    # Find the variance for the following set of data representing trees in California (heights in\n",
    "    # feet):\n",
    "    # 3, 21, 98, 203, 17, 9\n",
    "    \n",
    "    # Problem Statement 3:\n",
    "    # In a class on 100 students, 80 students passed in all subjects, 10 failed in one subject, 7\n",
    "    # failed in two subjects and 3 failed in three subjects. Find the probability distribution of\n",
    "    # the variable for number of subjects a student from the given class has failed in.\n",
    "    \n",
    "    # Note: Solution submitted via github must contain all the detailed steps."
   ]
  },
  {
   "cell_type": "code",
   "execution_count": 4,
   "metadata": {},
   "outputs": [
    {
     "name": "stdout",
     "output_type": "stream",
     "text": [
      "  \n",
      "Calculation using custom method\n",
      "--------------------------------\n",
      "Mean = 1158.3333333333333\n",
      "Variance = 135416.6666666667\n",
      "Standard deviation = 367.99003609699366\n",
      "--------------------------------\n",
      "  \n",
      "Calculation using statistics library\n",
      "--------------------------------\n",
      "Mean =1158.3333333333333\n",
      "Variance = 135416.66666666666\n",
      "Standard deviation = 367.9900360969936\n",
      "  \n"
     ]
    }
   ],
   "source": [
    "#You survey households in your area to find the average rent they are paying. Find the\n",
    "#standard deviation from the following data:\n",
    "\n",
    "#$1550,$1700,$900,$850,$1000,$950.\n",
    "    \n",
    "import statistics as stat\n",
    "    \n",
    "def find_mean(arr):\n",
    "    return sum(arr)/len(arr)\n",
    "    \n",
    "def find_variance(arr):\n",
    "    variance = 0.0\n",
    "    from math import sqrt\n",
    "    mean = find_mean(arr)\n",
    "    variance = sum((x - mean)**2 for x in arr) / (len(arr)-1)\n",
    "    return variance\n",
    "    \n",
    "def find_std_dev(arr):\n",
    "    return find_variance(arr)**0.5\n",
    "    \n",
    "arr = [1550,1700,900,850,1000,950]\n",
    "\n",
    "print(\"  \")\n",
    "print(\"Calculation using custom method\")\n",
    "print(\"--------------------------------\")\n",
    "print (\"Mean = \" + str(find_mean(arr)))\n",
    "print (\"Variance = \" + str(find_variance(arr)))\n",
    "print(\"Standard deviation = \" + str(find_std_dev(arr)))\n",
    "print(\"------------------------------------\")\n",
    "print(\"  \")\n",
    "print(\"Calculation using statistics library\")\n",
    "print(\"------------------------------------\")\n",
    "print(str(\"Mean =\" +str(stat.mean(arr))))\n",
    "print(str(\"Variance = \" + str(stat.variance(arr))))\n",
    "print(str(\"Standard deviation = \" + str(stat.stdev(arr))))\n",
    "print(\"  \")"
   ]
  },
  {
   "cell_type": "code",
   "execution_count": 8,
   "metadata": {},
   "outputs": [
    {
     "name": "stdout",
     "output_type": "stream",
     "text": [
      "Calculation using statistics library\n",
      "-------------------------------------\n",
      "Mean = 58.5\n",
      "Variance =6219.9\n"
     ]
    }
   ],
   "source": [
    "#2.Problem Statement : Find the variance for the following set of data representing trees in California (heights in feet):\n",
    "# 3,21,98,203,17,9\n",
    "    \n",
    "    \n",
    "import statistics as stat\n",
    "arr = [3,21,98,203,17,9]\n",
    "    \n",
    "print(\"Calculation using statistics library\")\n",
    "print(\"-------------------------------------\")\n",
    "print(str(\"Mean = \" + str(stat.mean(arr))))\n",
    "print(str(\"Variance =\" + str(stat.variance(arr))))"
   ]
  },
  {
   "cell_type": "code",
   "execution_count": 6,
   "metadata": {},
   "outputs": [
    {
     "name": "stderr",
     "output_type": "stream",
     "text": [
      "C:\\Users\\HP\\Anaconda3\\lib\\site-packages\\scipy\\stats\\stats.py:1713: FutureWarning: Using a non-tuple sequence for multidimensional indexing is deprecated; use `arr[tuple(seq)]` instead of `arr[seq]`. In the future this will be interpreted as an array index, `arr[np.array(seq)]`, which will result either in an error or a different result.\n",
      "  return np.add.reduce(sorted[indexer] * weights, axis=axis) / sumval\n"
     ]
    },
    {
     "data": {
      "text/plain": [
       "[Text(0, 0.5, 'Frequency'), Text(0.5, 0, 'Binomial Distribution')]"
      ]
     },
     "execution_count": 6,
     "metadata": {},
     "output_type": "execute_result"
    }
   ],
   "source": [
    "#Problem Statement 3: In a class on 100 students, 80 students passed in all subjects, 10 failed in one subject, 7\n",
    "#failed in two subjects and 3 failed in three subjects. Find the probability distribution of the variable for number of subjects a student from the given class has failed in.\n",
    "\n",
    "# The probability of failing in 0 subjects, P(X=0) = 0.8\n",
    "# The probability of failing in 1 subjects, P(X=1) = 0.1\n",
    "# The probability of failing in 2 subjects, P(X=2) = 0.07\n",
    "# The probability of failing in 3 subjects, P(X=3) = 0.03\n",
    "\n",
    "from scipy.stats import binom\n",
    "import seaborn as sb\n",
    "\n",
    "data_binom = binom.rvs(n=4,p=0.8,size=5)\n",
    "ax = sb.distplot(data_binom,\n",
    "  kde=False,\n",
    "  color='blue',\n",
    "  hist_kws={\"linewidth\": 15,'alpha':1})\n",
    "\n",
    "ax.set(xlabel='Binomial Distribution', ylabel='Frequency')\n"
   ]
  },
  {
   "cell_type": "code",
   "execution_count": 2,
   "metadata": {},
   "outputs": [
    {
     "name": "stdout",
     "output_type": "stream",
     "text": [
      "The probability distribution of the variable for number of subjects a student from the given class has failed in: \n",
      "X    0    1     2     3\n",
      "P(X)  0.8  0.1  0.07  0.03\n"
     ]
    }
   ],
   "source": [
    "# Problem Statement 3:\n",
    "#In a class on 100 students, 80 students passed in all subjects, 10 failed in one subject, 7\n",
    "# failed in two subjects and 3 failed in three subjects. Find the probability distribution of\n",
    "# the variable for number of subjects a student from the given class has failed in.\n",
    "\n",
    "import pandas as pd\n",
    "\n",
    "class_strength = 100 #Given class strength is 100\n",
    "passed_all_subjects = 80 #Given, 80 students passed in all subjects\n",
    "failed_one_subject = 10 #Given, 10 students failed in one subject\n",
    "failed_two_subjects = 7 #Given, 7 students failed in two subjects \n",
    "failed_three_subjects = 3 #Given, 3 students failed in three subjects\n",
    "\n",
    "prob_failing_zero_subject = float(passed_all_subjects)/class_strength #The probability of student failing in 0 subjects, P(X=0)\n",
    "prob_failing_one_subject = float(failed_one_subject)/class_strength #The probability of students failing in 1 subjects, P(X=1)\n",
    "prob_failing_two_subjects = float(failed_two_subjects)/class_strength #The probability of students failing in 2 subjects, P(X=2)\n",
    "prob_failing_three_subjects = float(failed_three_subjects)/class_strength #The probability of students failing in 3 subjects, P(X=3)\n",
    "\n",
    "print(\"The probability distribution of the variable for number of subjects a student from the given class has failed in: \")\n",
    "\n",
    "prob_distribution_data = {'X': ['P(X)'],\n",
    "                          '0': [prob_failing_zero_subject],\n",
    "                          '1': [prob_failing_one_subject],\n",
    "                          '2': [prob_failing_two_subjects],\n",
    "                          '3': [prob_failing_three_subjects]}\n",
    "\n",
    "df = pd.DataFrame(data=prob_distribution_data)\n",
    "print(df[pd.unique(['X'] + df.columns.values.tolist()).tolist()].to_string(index=False))"
   ]
  },
  {
   "cell_type": "code",
   "execution_count": null,
   "metadata": {},
   "outputs": [],
   "source": []
  }
 ],
 "metadata": {
  "kernelspec": {
   "display_name": "Python 3",
   "language": "python",
   "name": "python3"
  },
  "language_info": {
   "codemirror_mode": {
    "name": "ipython",
    "version": 3
   },
   "file_extension": ".py",
   "mimetype": "text/x-python",
   "name": "python",
   "nbconvert_exporter": "python",
   "pygments_lexer": "ipython3",
   "version": "3.7.1"
  }
 },
 "nbformat": 4,
 "nbformat_minor": 2
}
